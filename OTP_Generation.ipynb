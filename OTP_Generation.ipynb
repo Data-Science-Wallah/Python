{
  "nbformat": 4,
  "nbformat_minor": 0,
  "metadata": {
    "colab": {
      "provenance": []
    },
    "kernelspec": {
      "name": "python3",
      "display_name": "Python 3"
    }
  },
  "cells": [
    {
      "cell_type": "markdown",
      "metadata": {
        "id": "MMYT807cRo5r"
      },
      "source": [
        "#OTP Generation using Python\n",
        "A one-time password (OTP), also known as one-time PIN or dynamic password, is a password that is valid for only one login session or transaction, on a computer system or other digital device.\n",
        "\n",
        "- Mostly used for 2FA (two-factor authentication)\n",
        "\n",
        "- Currently its used in almost every secured websites/services:\n",
        "  - Internet Banking\n",
        "  - Facebook Login\n",
        "  - Digital Wallets\n",
        "\n",
        "- **Function to be used:** Random\n",
        "\n",
        "- **Logic:** The function will pick random index of string array which contains all the possible candidates of a particular digit of the OTP.\n"
      ]
    },
    {
      "cell_type": "markdown",
      "metadata": {
        "id": "FQZQxtSQWOaE"
      },
      "source": [
        "###Generate a random OTP of fixed length - Type 1"
      ]
    },
    {
      "cell_type": "code",
      "metadata": {
        "id": "OjCx0iX0WQZf"
      },
      "source": [
        "import random\n",
        "\n",
        "def get_otp(length):\n",
        "    chars = \"0123456789abcdefghijklmnopqrstuvwxyzABCDEFGHIJKLMNOPQRSTUVWXYZ\"\n",
        "    result_str = ''.join(random.choice(chars) for i in range(length))\n",
        "    print(\"Random string of length\", length, \"is:\", result_str)\n",
        "\n",
        "\n"
      ],
      "execution_count": 2,
      "outputs": []
    },
    {
      "cell_type": "code",
      "source": [
        "get_otp(12)"
      ],
      "metadata": {
        "colab": {
          "base_uri": "https://localhost:8080/"
        },
        "id": "kN77ftJOqVZ5",
        "outputId": "28732ca9-73ec-4f7e-cf5a-9dc476446885"
      },
      "execution_count": 7,
      "outputs": [
        {
          "output_type": "stream",
          "name": "stdout",
          "text": [
            "Random string of length 12 is: sotbzDE29Dqs\n"
          ]
        }
      ]
    },
    {
      "cell_type": "markdown",
      "metadata": {
        "id": "sNdcUAJnWsZB"
      },
      "source": [
        "###Generate a random OTP of fixed length - Type 2"
      ]
    },
    {
      "cell_type": "code",
      "metadata": {
        "id": "C-weaZiaLldy",
        "colab": {
          "base_uri": "https://localhost:8080/"
        },
        "outputId": "3b0c0624-ce0b-4d25-d184-8dc3b690ac1c"
      },
      "source": [
        "# Importing random to generate random string sequence\n",
        "import random\n",
        "\n",
        "# Importing string library function\n",
        "import string\n",
        "n = int(input(\"Enter the length of the password: \"))\n",
        "def gen_otp(n):\n",
        "\n",
        "    # Takes random choices from ascii_uppercase and ascii_lowercase and digits\n",
        "    generateOTP = ''.join([random.choice( string.ascii_uppercase +\n",
        "                                            string.ascii_lowercase +\n",
        "                                            string.digits)\n",
        "                                            for i in range(n)])\n",
        "\n",
        "    print(\"OTP: \", generateOTP)\n",
        "\n",
        "# Driver Code\n",
        "gen_otp(n)\n"
      ],
      "execution_count": 9,
      "outputs": [
        {
          "output_type": "stream",
          "name": "stdout",
          "text": [
            "Enter the length of the password: 5\n",
            "OTP:  XeRjj\n"
          ]
        }
      ]
    },
    {
      "cell_type": "markdown",
      "metadata": {
        "id": "rkdjkClWZsW9"
      },
      "source": [
        "###Generate a random OTP of fixed length - Type 3"
      ]
    },
    {
      "cell_type": "code",
      "metadata": {
        "id": "IAoDo7hgOdH1",
        "colab": {
          "base_uri": "https://localhost:8080/"
        },
        "outputId": "737d3520-1394-4665-b008-926ed8673959"
      },
      "source": [
        "import random\n",
        "char= \"!@#$%^&*()_+-={}|:<>?,./;'[]\\=-\"\n",
        "len = int(input(\"Enter the length of the password \"))\n",
        "def gen_otp(n):\n",
        "\n",
        "    # Takes random choices from ascii_uppercase and ascii_lowercase and digits\n",
        "    generateOTP = ''.join([random.choice( string.ascii_uppercase +\n",
        "                                            string.ascii_lowercase +\n",
        "                                            string.digits+char)\n",
        "                                            for i in range(n)])\n",
        "\n",
        "    print(\"OTP: \", generateOTP)\n",
        "\n",
        "gen_otp(len)\n"
      ],
      "execution_count": 12,
      "outputs": [
        {
          "output_type": "stream",
          "name": "stdout",
          "text": [
            "Enter the length of the password 8\n",
            "OTP:  q4ODNq-c\n"
          ]
        }
      ]
    },
    {
      "cell_type": "code",
      "metadata": {
        "id": "LDX_WvCwQJdg"
      },
      "source": [],
      "execution_count": null,
      "outputs": []
    }
  ]
}