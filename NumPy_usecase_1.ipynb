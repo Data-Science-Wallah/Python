{
  "nbformat": 4,
  "nbformat_minor": 0,
  "metadata": {
    "colab": {
      "provenance": []
    },
    "kernelspec": {
      "name": "python3",
      "display_name": "Python 3"
    }
  },
  "cells": [
    {
      "cell_type": "markdown",
      "source": [
        "# Introduction to NumPy:\n",
        "NumPy, short for Numerical Python, is a powerful library in Python for numerical and mathematical operations. It provides support for large, multi-dimensional arrays and matrices, along with a collection of high-level mathematical functions to operate on these arrays. NumPy is a fundamental library in the field of data science and scientific computing.\n"
      ],
      "metadata": {
        "id": "zw1dW5KTq8cp"
      }
    },
    {
      "cell_type": "markdown",
      "source": [
        "![numpy.jpg](https://github.com/Data-Science-Wallah/Python/blob/main/Uses-of-NumPy-1.webp?raw=true)\n",
        "\n",
        "\n"
      ],
      "metadata": {
        "id": "7pO09jlAsjGZ"
      }
    },
    {
      "cell_type": "markdown",
      "source": [
        "# What is NumPy Used For:\n",
        "**Efficient Array Operations**:\n",
        "\n",
        "NumPy allows efficient manipulation of large datasets with its array objects, providing a foundation for numerical operations.\n",
        "\n",
        "**Mathematical and Logical Operations**:\n",
        "\n",
        "It offers a variety of functions for performing mathematical and logical operations on arrays, making it essential for scientific computing.\n",
        "\n",
        "**Data Analysis and Visualization**:\n",
        "\n",
        "NumPy integrates seamlessly with other libraries like Pandas and Matplotlib, enabling data manipulation and visualization in data science workflows.\n",
        "\n",
        "**Efficient Memory Management**:\n",
        "\n",
        "NumPy arrays are implemented in C and provide efficient memory usage, making them suitable for large-scale numerical computations.\n",
        "\n",
        "**Broadcasting**:\n",
        "\n",
        "Broadcasting in NumPy simplifies operations on arrays of different shapes, enhancing the readability and efficiency of code."
      ],
      "metadata": {
        "id": "_aGurKB1rtXc"
      }
    },
    {
      "cell_type": "markdown",
      "source": [
        "\n",
        "\n",
        "#Importance of NumPy:\n",
        "**Performance Optimization**:\n",
        "\n",
        "NumPy operations are implemented in C, resulting in better performance compared to standard Python lists.\n",
        "\n",
        "**Consistent and Standardized Interface**:\n",
        "\n",
        "NumPy provides a consistent and standardized array interface, making it easy to integrate with other libraries and tools.\n",
        "\n",
        "**Foundation for Data Science**:\n",
        "\n",
        "Many other data science libraries and frameworks, including machine learning libraries, rely on NumPy arrays as a common data structure.\n",
        "\n",
        "**Numerical Stability**:\n",
        "\n",
        "NumPy provides functions for numerical operations that are stable and reliable, ensuring accurate results in scientific computing."
      ],
      "metadata": {
        "id": "vTxwxGuZrycy"
      }
    },
    {
      "cell_type": "markdown",
      "source": [
        "#Method Exploration via Examples:\n",
        "\n",
        "**Array Creation**:\n",
        "\n",
        "np.array(), np.zeros(), np.ones(), etc., for creating arrays.\n",
        "\n",
        "**Array Operations**:\n",
        "\n",
        "Arithmetic operations, element-wise operations, and basic statistical operations.\n",
        "\n",
        "**Indexing and Slicing**:\n",
        "\n",
        "Accessing specific elements and creating subarrays.\n",
        "\n",
        "**Broadcasting:**\n",
        "\n",
        "Performing operations on arrays of different shapes.\n",
        "\n",
        "**Mathematical Functions:**\n",
        "\n",
        "Exploring functions like np.sin(), np.exp(), and others.\n",
        "\n",
        "**File I/O:**\n",
        "\n",
        "Reading from and writing to files using np.loadtxt() and np.savetxt().\n",
        "\n",
        "**Random Number Generation:**\n",
        "\n",
        "Generating random numbers and arrays with np.random module."
      ],
      "metadata": {
        "id": "cADUTGhdr5X5"
      }
    },
    {
      "cell_type": "markdown",
      "metadata": {
        "id": "hE_vdEYA-Ejz"
      },
      "source": [
        "**If you want to learn more about NumPy [Click Here](https://numpy.org/devdocs/user/quickstart.html)**"
      ]
    },
    {
      "cell_type": "markdown",
      "metadata": {
        "id": "9gUGQ_zfw0rE"
      },
      "source": [
        "###**Problem Statement**:\n",
        "A movie review site needs to create a database to store their data and perform operations on it. You are asked to create a dummy model with 100 users and 1000 movies to explain how it will work"
      ]
    },
    {
      "cell_type": "markdown",
      "metadata": {
        "id": "elZ1CfS6IiA5"
      },
      "source": [
        "###Tasks to be performed:\n",
        "1. Generate 1000 movie IDs starting from 1301\n",
        "\n",
        "2. Create a matrix, movies_matrix, to store users rating such that\n",
        ">There are 100 users\n",
        "\n",
        ">Each user can review as many movies as he/she wants\n",
        "\n",
        ">The review should be in between 0 to 10 (both inclusive)\n",
        "\n",
        "3. We have ten movie experts, let us take their reviews also. Also, 50 new movies have to be added and their reviews\n",
        "\n",
        "4. Create, final_movie_rating matrix with four columns i.e., ‘Movie ID’, ‘Average rating’, ‘Number of ratings’, and ‘Standard deviation of ratings’\n",
        "\n",
        "5. Also convert the final movie ratings to have range from 0 to 10, such that the minimum rating converts to 0 and maximum to 10, and the other values in between\n",
        "\n",
        "6. Display the films rating-wise, highest to lowest"
      ]
    },
    {
      "cell_type": "code",
      "metadata": {
        "id": "VQrUxhlEZpN5"
      },
      "source": [
        "import numpy as np"
      ],
      "execution_count": 1,
      "outputs": []
    },
    {
      "cell_type": "code",
      "source": [
        "import numpy as np\n",
        "\n",
        "# Create a NumPy array with floating-point numbers\n",
        "my_array = np.array([1.234567, 2.345678, 3.456789])\n",
        "\n",
        "# Set the print options to display three decimal places for floating-point numbers\n",
        "np.set_printoptions(formatter={'float_kind':'{:.3f}'.format})\n",
        "\n",
        "# Print the array\n",
        "print(my_array)"
      ],
      "metadata": {
        "id": "wSt8CF2hty_f"
      },
      "execution_count": null,
      "outputs": []
    },
    {
      "cell_type": "code",
      "metadata": {
        "id": "Gl6cwJygsjMI"
      },
      "source": [
        "np.set_printoptions(formatter={'float_kind':'{:.3f}'.format})  #Sets the display setting so that all the float values will have 3 values after decimal"
      ],
      "execution_count": 2,
      "outputs": []
    },
    {
      "cell_type": "markdown",
      "metadata": {
        "id": "XKkEuPFCtK6B"
      },
      "source": [
        "###Task 1: Create a NumPy array of 1000 movie IDs starting from 1301"
      ]
    },
    {
      "cell_type": "code",
      "metadata": {
        "id": "UNWl1twcVzW3",
        "colab": {
          "base_uri": "https://localhost:8080/"
        },
        "outputId": "e63ce134-4284-4e0d-a95f-a446809ea29c"
      },
      "source": [
        "movie_id = np.arange(1301,2301)\n",
        "print(movie_id[:10])\n",
        "movie_id.size"
      ],
      "execution_count": 3,
      "outputs": [
        {
          "output_type": "stream",
          "name": "stdout",
          "text": [
            "[1301 1302 1303 1304 1305 1306 1307 1308 1309 1310]\n"
          ]
        },
        {
          "output_type": "execute_result",
          "data": {
            "text/plain": [
              "1000"
            ]
          },
          "metadata": {},
          "execution_count": 3
        }
      ]
    },
    {
      "cell_type": "code",
      "metadata": {
        "id": "vspcxX6Qc9v6"
      },
      "source": [
        "user_id = []\n",
        "for i in range(20201,20301):\n",
        "  user_id.append(i)\n",
        "user_id = np.array(user_id)"
      ],
      "execution_count": 4,
      "outputs": []
    },
    {
      "cell_type": "code",
      "metadata": {
        "id": "bTthQgdYddpc",
        "colab": {
          "base_uri": "https://localhost:8080/"
        },
        "outputId": "48eb2300-aeda-4bed-9cc9-77b5cd9f59b9"
      },
      "source": [
        "user_id.size #checking the number of elements in numpy array"
      ],
      "execution_count": 5,
      "outputs": [
        {
          "output_type": "execute_result",
          "data": {
            "text/plain": [
              "100"
            ]
          },
          "metadata": {},
          "execution_count": 5
        }
      ]
    },
    {
      "cell_type": "markdown",
      "metadata": {
        "id": "ToOrVbEkWUm_"
      },
      "source": [
        "####Other ways to create a numpy array"
      ]
    },
    {
      "cell_type": "code",
      "metadata": {
        "id": "lJ-tIqhHWazu",
        "colab": {
          "base_uri": "https://localhost:8080/"
        },
        "outputId": "aa2f1dee-2d6f-4900-9c89-a0902810873e"
      },
      "source": [
        "#Creating a Single-Dimensional Array\n",
        "\n",
        "arr = np.array([2,3,7]) #Calling the Array Function\n",
        "print(arr)"
      ],
      "execution_count": 6,
      "outputs": [
        {
          "output_type": "stream",
          "name": "stdout",
          "text": [
            "[2 3 7]\n"
          ]
        }
      ]
    },
    {
      "cell_type": "code",
      "metadata": {
        "id": "aptPFs4KWnND",
        "colab": {
          "base_uri": "https://localhost:8080/"
        },
        "outputId": "0de968e3-0388-4b0f-e61c-353d9e11002d"
      },
      "source": [
        "#Creating a Multi-Dimensional Array\n",
        "\n",
        "arr = np.array([[10,20,30],[40,50,60]])\n",
        "print(arr)\n",
        "print(type(arr))"
      ],
      "execution_count": 7,
      "outputs": [
        {
          "output_type": "stream",
          "name": "stdout",
          "text": [
            "[[10 20 30]\n",
            " [40 50 60]]\n",
            "<class 'numpy.ndarray'>\n"
          ]
        }
      ]
    },
    {
      "cell_type": "code",
      "metadata": {
        "id": "CdIudmsJWw04",
        "colab": {
          "base_uri": "https://localhost:8080/"
        },
        "outputId": "97beedb8-510c-4c5e-c789-801458529e21"
      },
      "source": [
        "#np.empty()\n",
        "\n",
        "arr = np.empty([2,2], dtype=complex) #Returns a new array with specified shape & type filled with random values\n",
        "print(arr)"
      ],
      "execution_count": 8,
      "outputs": [
        {
          "output_type": "stream",
          "name": "stdout",
          "text": [
            "[[5.00844654e-310+0.j 0.00000000e+000+0.j]\n",
            " [0.00000000e+000+0.j 0.00000000e+000+0.j]]\n"
          ]
        }
      ]
    },
    {
      "cell_type": "code",
      "metadata": {
        "id": "2hoiU-CEW9FG",
        "colab": {
          "base_uri": "https://localhost:8080/"
        },
        "outputId": "723ef596-c9d5-4cc8-c51f-d55d1e87c4e5"
      },
      "source": [
        "X = np.full((2,3), 5) #Returns an array with specified shape & filled with specified value\n",
        "print(X)"
      ],
      "execution_count": 9,
      "outputs": [
        {
          "output_type": "stream",
          "name": "stdout",
          "text": [
            "[[5 5 5]\n",
            " [5 5 5]]\n"
          ]
        }
      ]
    },
    {
      "cell_type": "code",
      "metadata": {
        "id": "2Gb1o2LYW-1P",
        "colab": {
          "base_uri": "https://localhost:8080/"
        },
        "outputId": "4e338901-29f0-4a66-ee70-512a15883546"
      },
      "source": [
        "#np.zeros()\n",
        "\n",
        "arr = np.zeros([2,3]) #Returns a new array with specified shape filled with zeroes\n",
        "print(arr)"
      ],
      "execution_count": 10,
      "outputs": [
        {
          "output_type": "stream",
          "name": "stdout",
          "text": [
            "[[0.000 0.000 0.000]\n",
            " [0.000 0.000 0.000]]\n"
          ]
        }
      ]
    },
    {
      "cell_type": "code",
      "metadata": {
        "id": "x2iWOcJLXEmO",
        "colab": {
          "base_uri": "https://localhost:8080/"
        },
        "outputId": "e65f3413-62e9-4920-b2e5-49597d42efad"
      },
      "source": [
        "arr = np.ones([3,5]) #Returns a new array with specified shape filled with ones\n",
        "print(arr)"
      ],
      "execution_count": 11,
      "outputs": [
        {
          "output_type": "stream",
          "name": "stdout",
          "text": [
            "[[1.000 1.000 1.000 1.000 1.000]\n",
            " [1.000 1.000 1.000 1.000 1.000]\n",
            " [1.000 1.000 1.000 1.000 1.000]]\n"
          ]
        }
      ]
    },
    {
      "cell_type": "code",
      "metadata": {
        "id": "CmI0Vi_jXNAU",
        "colab": {
          "base_uri": "https://localhost:8080/"
        },
        "outputId": "3469dc8d-d207-4d10-e937-f51bf26e63a9"
      },
      "source": [
        "X = np.eye(5) #returns an array of identical matrix of size 5X5\n",
        "X"
      ],
      "execution_count": 12,
      "outputs": [
        {
          "output_type": "execute_result",
          "data": {
            "text/plain": [
              "array([[1.000, 0.000, 0.000, 0.000, 0.000],\n",
              "       [0.000, 1.000, 0.000, 0.000, 0.000],\n",
              "       [0.000, 0.000, 1.000, 0.000, 0.000],\n",
              "       [0.000, 0.000, 0.000, 1.000, 0.000],\n",
              "       [0.000, 0.000, 0.000, 0.000, 1.000]])"
            ]
          },
          "metadata": {},
          "execution_count": 12
        }
      ]
    },
    {
      "cell_type": "code",
      "metadata": {
        "id": "t5LyK1jvXUFr",
        "colab": {
          "base_uri": "https://localhost:8080/"
        },
        "outputId": "e290491b-cf93-4c19-b02e-f56998ed0e1b"
      },
      "source": [
        "#np.linspace()\n",
        "\n",
        "arr = np.linspace(0, 20, 5) #Returns a Linearly-Spaced Vector spacing\n",
        "print(arr)"
      ],
      "execution_count": 13,
      "outputs": [
        {
          "output_type": "stream",
          "name": "stdout",
          "text": [
            "[0.000 5.000 10.000 15.000 20.000]\n"
          ]
        }
      ]
    },
    {
      "cell_type": "markdown",
      "metadata": {
        "id": "4xWcIPS3tiOX"
      },
      "source": [
        "###Task 2: Create Matrix 1 such that:\n",
        ">* There are 100 users\n",
        ">* Each user can review as many movies as he/she wants.\n",
        ">* The review should be in between 0 to 10 (both inclusive)\n",
        ">* The movies which are not reviewed by a user should have value -1"
      ]
    },
    {
      "cell_type": "code",
      "metadata": {
        "id": "2PAL08iLeRpc"
      },
      "source": [
        "import random\n",
        "movie_matrix = []\n",
        "for user in range(100):\n",
        "  movies_rated_by_me = np.full(1000,-1)\n",
        "  num_movies_rated = random.randint(0,999)\n",
        "  #random.seed(num_movies_rated)\n",
        "  movies_that_i_will_rate = random.sample(range(0,1000),num_movies_rated)\n",
        "  #user rating for movies they chosed to rate\n",
        "  for index in movies_that_i_will_rate:\n",
        "    movies_rated_by_me[index] = random.randint(0,10)\n",
        "  movie_matrix.append(movies_rated_by_me)\n",
        "\n"
      ],
      "execution_count": 14,
      "outputs": []
    },
    {
      "cell_type": "code",
      "metadata": {
        "id": "TgUttCSjlQIX"
      },
      "source": [
        "movie_matrix = np.array(movie_matrix)"
      ],
      "execution_count": 15,
      "outputs": []
    },
    {
      "cell_type": "markdown",
      "metadata": {
        "id": "e6prDfNmg2dj"
      },
      "source": [
        "Attributes of the numpy ndarray class"
      ]
    },
    {
      "cell_type": "code",
      "metadata": {
        "id": "hn_WQ711nbr5",
        "colab": {
          "base_uri": "https://localhost:8080/"
        },
        "outputId": "b92d3079-4c44-41c1-93e2-8126534a3d2c"
      },
      "source": [
        "print(movie_matrix)\n",
        "print('Shape of the array',movie_matrix.shape) #100 users(rows) and 1000 movies(columns)\n",
        "print('Number of elements in the array',movie_matrix.size)\n",
        "print('Number of dimensions in the array',movie_matrix.ndim)"
      ],
      "execution_count": 16,
      "outputs": [
        {
          "output_type": "stream",
          "name": "stdout",
          "text": [
            "[[-1 -1 -1 ... -1 -1 -1]\n",
            " [ 7  8 -1 ... -1 -1 -1]\n",
            " [ 2 -1  5 ...  0 -1 -1]\n",
            " ...\n",
            " [-1 -1  7 ...  3 -1 -1]\n",
            " [ 8  5 -1 ... -1 -1 -1]\n",
            " [-1 -1 -1 ...  0 -1  0]]\n",
            "Shape of the array (100, 1000)\n",
            "Number of elements in the array 100000\n",
            "Number of dimensions in the array 2\n"
          ]
        }
      ]
    },
    {
      "cell_type": "markdown",
      "metadata": {
        "id": "6tczGqkMhytM"
      },
      "source": [
        "###Task 3: Add the reviews of 10 movie experts and 50 more films"
      ]
    },
    {
      "cell_type": "code",
      "metadata": {
        "id": "UpsTw38eOfnw",
        "colab": {
          "base_uri": "https://localhost:8080/"
        },
        "outputId": "75fd0848-57c6-4765-aeea-4d8a042874bd"
      },
      "source": [
        "#Expert movie reviews\n",
        "expert_matrix = []\n",
        "for user in range(10):\n",
        "  movies_rated_by_me = np.full(1000,-1)\n",
        "  num_movies_rated = random.randint(0,999)\n",
        "  #random.seed(num_movies_rated)\n",
        "  movies_that_i_will_rate = random.sample(range(0,1000),num_movies_rated)\n",
        "  #user rating for movies they chosed to rate\n",
        "  for index in movies_that_i_will_rate:\n",
        "    movies_rated_by_me[index] = random.randint(0,10)\n",
        "  expert_matrix.append(movies_rated_by_me)\n",
        "expert_matrix = np.array(expert_matrix)\n",
        "print(expert_matrix.shape)\n",
        "expert_matrix"
      ],
      "execution_count": 17,
      "outputs": [
        {
          "output_type": "stream",
          "name": "stdout",
          "text": [
            "(10, 1000)\n"
          ]
        },
        {
          "output_type": "execute_result",
          "data": {
            "text/plain": [
              "array([[ 8, -1, -1, ..., -1, -1, -1],\n",
              "       [ 0, 10, -1, ...,  8,  4,  7],\n",
              "       [-1, -1, -1, ..., -1, -1, -1],\n",
              "       ...,\n",
              "       [ 6,  8, -1, ..., 10,  5,  9],\n",
              "       [ 5,  4, 10, ...,  6,  5,  7],\n",
              "       [ 8, 10,  5, ...,  4,  5,  2]])"
            ]
          },
          "metadata": {},
          "execution_count": 17
        }
      ]
    },
    {
      "cell_type": "code",
      "metadata": {
        "id": "6CdIsoYnTha7",
        "colab": {
          "base_uri": "https://localhost:8080/"
        },
        "outputId": "ebfeb727-aced-4546-f1bd-bacb4efd4ef6"
      },
      "source": [
        "#adding these expert reviews with original reviews\n",
        "movie_matrix = np.vstack([movie_matrix,expert_matrix]) # vstack is used to stack arrays vertically\n",
        "movie_matrix.shape"
      ],
      "execution_count": 18,
      "outputs": [
        {
          "output_type": "execute_result",
          "data": {
            "text/plain": [
              "(110, 1000)"
            ]
          },
          "metadata": {},
          "execution_count": 18
        }
      ]
    },
    {
      "cell_type": "code",
      "metadata": {
        "id": "dGXDR1lvWaIl",
        "colab": {
          "base_uri": "https://localhost:8080/"
        },
        "outputId": "edf83e75-d84e-4fc2-d763-bcf927cebea3"
      },
      "source": [
        "new_movies_matrix = []\n",
        "for user in range(110):\n",
        "  movies_rated_by_me = np.full(50,-1)\n",
        "  num_movies_rated = random.randint(0,49)\n",
        "  #random.seed(num_movies_rated)\n",
        "  movies_that_i_will_rate = random.sample(range(0,50),num_movies_rated)\n",
        "  #user rating for movies they chosed to rate\n",
        "  for index in movies_that_i_will_rate:\n",
        "    movies_rated_by_me[index] = random.randint(0,10)\n",
        "  new_movies_matrix.append(movies_rated_by_me)\n",
        "new_movies_matrix = np.array(new_movies_matrix)\n",
        "print(new_movies_matrix.shape)\n",
        "new_movies_matrix"
      ],
      "execution_count": 19,
      "outputs": [
        {
          "output_type": "stream",
          "name": "stdout",
          "text": [
            "(110, 50)\n"
          ]
        },
        {
          "output_type": "execute_result",
          "data": {
            "text/plain": [
              "array([[-1, -1, -1, ..., -1, -1,  3],\n",
              "       [ 0, 10,  9, ...,  4,  0,  8],\n",
              "       [ 8, -1, -1, ...,  9,  6,  7],\n",
              "       ...,\n",
              "       [-1,  0, 10, ..., -1,  7,  3],\n",
              "       [ 8,  7, -1, ..., 10, -1, -1],\n",
              "       [-1, -1,  2, ..., 10,  8, -1]])"
            ]
          },
          "metadata": {},
          "execution_count": 19
        }
      ]
    },
    {
      "cell_type": "code",
      "metadata": {
        "id": "mBdGs_owhTw1",
        "colab": {
          "base_uri": "https://localhost:8080/"
        },
        "outputId": "a7e083de-e01d-4ed5-b809-76e7077fa497"
      },
      "source": [
        "new_movies_id = np.append(movie_id,np.arange(2301,2351))\n",
        "new_movies_id.size"
      ],
      "execution_count": 20,
      "outputs": [
        {
          "output_type": "execute_result",
          "data": {
            "text/plain": [
              "1050"
            ]
          },
          "metadata": {},
          "execution_count": 20
        }
      ]
    },
    {
      "cell_type": "code",
      "metadata": {
        "id": "7eeZVg7nY7PF",
        "colab": {
          "base_uri": "https://localhost:8080/"
        },
        "outputId": "a1ec91a4-9378-4ec9-b43e-986fb897bf1f"
      },
      "source": [
        "#adding the reviews of new movies with original reviews\n",
        "movie_matrix = np.hstack([movie_matrix,new_movies_matrix]) # hstack is used to stack arrays horizontally\n",
        "print(movie_matrix.shape) #100 users + 10 experts(rows) and 1000 + 50 movies(columns)"
      ],
      "execution_count": 21,
      "outputs": [
        {
          "output_type": "stream",
          "name": "stdout",
          "text": [
            "(110, 1050)\n"
          ]
        }
      ]
    },
    {
      "cell_type": "markdown",
      "metadata": {
        "id": "NuGZdqVhiSkd"
      },
      "source": [
        "We can see now we have 110 users and 1050 movies"
      ]
    },
    {
      "cell_type": "markdown",
      "metadata": {
        "id": "4_zQkkz3rgQr"
      },
      "source": [
        "####Indexing and Slicing in NumPy"
      ]
    },
    {
      "cell_type": "code",
      "metadata": {
        "id": "md1h-3XysHJP",
        "colab": {
          "base_uri": "https://localhost:8080/"
        },
        "outputId": "f353063b-853c-46d4-99af-2b049b8979f1"
      },
      "source": [
        "#Indexing\n",
        "a = np.arange(1,10)\n",
        "print(\"Accessed Element:\",a[5]) #Accessing a Single Element"
      ],
      "execution_count": 22,
      "outputs": [
        {
          "output_type": "stream",
          "name": "stdout",
          "text": [
            "Accessed Element: 6\n"
          ]
        }
      ]
    },
    {
      "cell_type": "code",
      "metadata": {
        "id": "e5-ZVDR-rmrh",
        "colab": {
          "base_uri": "https://localhost:8080/"
        },
        "outputId": "6ee9771a-a281-4239-c175-5e76f826ff02"
      },
      "source": [
        "print('Given Array:',a)\n",
        "print('Retrieved Elements:',a[3:])"
      ],
      "execution_count": 23,
      "outputs": [
        {
          "output_type": "stream",
          "name": "stdout",
          "text": [
            "Given Array: [1 2 3 4 5 6 7 8 9]\n",
            "Retrieved Elements: [4 5 6 7 8 9]\n"
          ]
        }
      ]
    },
    {
      "cell_type": "code",
      "metadata": {
        "id": "-IoKK6c4rnBo",
        "colab": {
          "base_uri": "https://localhost:8080/"
        },
        "outputId": "5565d801-25f7-49ca-eec6-c7dee014014d"
      },
      "source": [
        "print('Given Array:',a)\n",
        "print('Retrieved Elements:',a[1:7:2])"
      ],
      "execution_count": 24,
      "outputs": [
        {
          "output_type": "stream",
          "name": "stdout",
          "text": [
            "Given Array: [1 2 3 4 5 6 7 8 9]\n",
            "Retrieved Elements: [2 4 6]\n"
          ]
        }
      ]
    },
    {
      "cell_type": "code",
      "metadata": {
        "id": "bWTw-batr26F",
        "colab": {
          "base_uri": "https://localhost:8080/"
        },
        "outputId": "a8fc0b03-5fe8-47aa-cf6e-3274d87a1be3"
      },
      "source": [
        "print('Given Array:',a)\n",
        "slice1 = slice(2,7,2) #slice() function to access multiple elements\n",
        "print(a[slice1])\n",
        "print(a[2:7:2]) #without using slice function"
      ],
      "execution_count": 25,
      "outputs": [
        {
          "output_type": "stream",
          "name": "stdout",
          "text": [
            "Given Array: [1 2 3 4 5 6 7 8 9]\n",
            "[3 5 7]\n",
            "[3 5 7]\n"
          ]
        }
      ]
    },
    {
      "cell_type": "code",
      "metadata": {
        "id": "jYIGrmpar3JD",
        "colab": {
          "base_uri": "https://localhost:8080/"
        },
        "outputId": "c89856be-18f0-405a-c25c-fdf18e508025"
      },
      "source": [
        "#Indexing\n",
        "arr = np.array([[2,4,5],[6,8,1],[4,1,6],[9,1,4]]) #Creating a Multi-Dimensional Array\n",
        "print(\"Original Array:\\n\", arr)\n",
        "print(arr[0,1]) #In a 2-dimensional array we can access elements using [rows,column] indexes"
      ],
      "execution_count": 26,
      "outputs": [
        {
          "output_type": "stream",
          "name": "stdout",
          "text": [
            "Original Array:\n",
            " [[2 4 5]\n",
            " [6 8 1]\n",
            " [4 1 6]\n",
            " [9 1 4]]\n",
            "4\n"
          ]
        }
      ]
    },
    {
      "cell_type": "code",
      "metadata": {
        "id": "ZK7ZUWY0sqwd",
        "colab": {
          "base_uri": "https://localhost:8080/"
        },
        "outputId": "2981f48d-c9b6-479a-96b3-4d5d78934182"
      },
      "source": [
        "print(\"Original Array:\\n\", arr)\n",
        "print(\"Sliced Array1:\\n\",arr[0:3,0:2]) #Slicing the first 3 rows & 2 columns from arr\n",
        "print(\"Sliced Array2:\\n\",arr[:3,:]) #Slicing the first 3 rows\n",
        "print(\"Sliced Array3:\\n\",arr[:,:2]) #Slicing the first 2 columns"
      ],
      "execution_count": 27,
      "outputs": [
        {
          "output_type": "stream",
          "name": "stdout",
          "text": [
            "Original Array:\n",
            " [[2 4 5]\n",
            " [6 8 1]\n",
            " [4 1 6]\n",
            " [9 1 4]]\n",
            "Sliced Array1:\n",
            " [[2 4]\n",
            " [6 8]\n",
            " [4 1]]\n",
            "Sliced Array2:\n",
            " [[2 4 5]\n",
            " [6 8 1]\n",
            " [4 1 6]]\n",
            "Sliced Array3:\n",
            " [[2 4]\n",
            " [6 8]\n",
            " [4 1]\n",
            " [9 1]]\n"
          ]
        }
      ]
    },
    {
      "cell_type": "markdown",
      "metadata": {
        "id": "s5D_WknewJLD"
      },
      "source": [
        "####Statistical Function in NumPy"
      ]
    },
    {
      "cell_type": "code",
      "metadata": {
        "id": "SufIEnTEyi6B",
        "colab": {
          "base_uri": "https://localhost:8080/"
        },
        "outputId": "3d638223-7989-4475-a55d-bc9183d802d4"
      },
      "source": [
        "#amin() & amax() - Returns the minimum & the maximum from the elements in the given array along the given axis\n",
        "\n",
        "\n",
        "arr = np.array([[1,2,3],[4,5,6],[7,8,9]])\n",
        "\n",
        "print(np.amin(arr)) #Minimum along axis - 0\n",
        "\n",
        "print(np.amin(arr,1)) #Minimum along axis - 1\n",
        "\n",
        "print(np.amax(arr)) #Maximum along axis - 0\n",
        "\n",
        "print(np.amax(arr,1)) #Maximum along axis - 1"
      ],
      "execution_count": 28,
      "outputs": [
        {
          "output_type": "stream",
          "name": "stdout",
          "text": [
            "1\n",
            "[1 4 7]\n",
            "9\n",
            "[3 6 9]\n"
          ]
        }
      ]
    },
    {
      "cell_type": "code",
      "metadata": {
        "id": "5VJS_hLuyjEX",
        "colab": {
          "base_uri": "https://localhost:8080/"
        },
        "outputId": "d48a4dca-6992-42e8-e437-d853caed6779"
      },
      "source": [
        "arr = np.array([[4,9,2],\n",
        "              [3,1,2]])\n",
        "print('mean of the array is',arr.mean())\n",
        "print('Standard deviation of the array is',arr.std()) #std() - Returns the Standard Deviation of the given data. It is the square-root of variance\n",
        "print('median of the array is',np.median(arr))\n",
        "print('minimum value in the array is',arr.min())"
      ],
      "execution_count": 29,
      "outputs": [
        {
          "output_type": "stream",
          "name": "stdout",
          "text": [
            "mean of the array is 3.5\n",
            "Standard deviation of the array is 2.6299556396765835\n",
            "median of the array is 2.5\n",
            "minimum value in the array is 1\n"
          ]
        }
      ]
    },
    {
      "cell_type": "code",
      "metadata": {
        "id": "g2DSvWumyi-i",
        "colab": {
          "base_uri": "https://localhost:8080/"
        },
        "outputId": "c3f6dc7d-5392-4c4e-d53f-e77ecb30f9e4"
      },
      "source": [
        "#mean() - Returns the Mean of the given data\n",
        "\n",
        "arr = np.array([[0,5,7],\n",
        "              [4,9,1],\n",
        "              [3,1,7]])\n",
        "print(np.mean(arr))\n",
        "\n",
        "print(np.mean(arr,0)) #Mean along axis - 0\n",
        "\n",
        "print(np.mean(arr,1)) #Mean along axis - 1"
      ],
      "execution_count": 30,
      "outputs": [
        {
          "output_type": "stream",
          "name": "stdout",
          "text": [
            "4.111111111111111\n",
            "[2.333 5.000 5.000]\n",
            "[4.000 4.667 3.667]\n"
          ]
        }
      ]
    },
    {
      "cell_type": "markdown",
      "metadata": {
        "id": "UqMGt6YP99nv"
      },
      "source": [
        "###Task 4:Create average user rating matrix using movies_matrix, such that average_user_rating_matrix will have 4 columns i.e.\n",
        ">* ‘Movie ID’\n",
        ">* ‘Average rating’\n",
        ">* ‘Number of ratings’\n",
        ">* ‘Standard deviation of ratings’"
      ]
    },
    {
      "cell_type": "code",
      "metadata": {
        "id": "UZ1OBQzhnnCk"
      },
      "source": [
        "final_movie_rating = []\n",
        "for i in range(1050):\n",
        "  #each movie's rating\n",
        "  m = movie_matrix[:,i] # taking all rows and the ith column\n",
        "  m = m[m>=0]\n",
        "  #total_rate = m.sum()\n",
        "  total_num_rating = m.size\n",
        "  rating = m.mean()\n",
        "  standard_deviation = m.std()\n",
        "  final_movie_rating.append([new_movies_id[i],rating,total_num_rating,standard_deviation])"
      ],
      "execution_count": 31,
      "outputs": []
    },
    {
      "cell_type": "code",
      "metadata": {
        "id": "Wp69L8ZOpdmu",
        "colab": {
          "base_uri": "https://localhost:8080/"
        },
        "outputId": "6a1a29ff-85a1-4ed2-fcea-fda703c5ce59"
      },
      "source": [
        "final_movie_rating = np.array(final_movie_rating)\n",
        "final_movie_rating"
      ],
      "execution_count": 32,
      "outputs": [
        {
          "output_type": "execute_result",
          "data": {
            "text/plain": [
              "array([[1301.000, 4.968, 62.000, 2.924],\n",
              "       [1302.000, 5.492, 59.000, 3.033],\n",
              "       [1303.000, 4.839, 62.000, 3.189],\n",
              "       ...,\n",
              "       [2348.000, 5.793, 58.000, 2.911],\n",
              "       [2349.000, 4.759, 54.000, 3.067],\n",
              "       [2350.000, 5.364, 55.000, 2.944]])"
            ]
          },
          "metadata": {},
          "execution_count": 32
        }
      ]
    },
    {
      "cell_type": "markdown",
      "metadata": {
        "id": "Hfh298Bu7NBl"
      },
      "source": [
        "####Mathematical operation using NumPy"
      ]
    },
    {
      "cell_type": "code",
      "metadata": {
        "id": "YY7sN9CV7dFZ",
        "colab": {
          "base_uri": "https://localhost:8080/"
        },
        "outputId": "a843b2b6-9374-4a91-a1a7-e3482a087e28"
      },
      "source": [
        "#add() - Used to add arguments element-wise\n",
        "\n",
        "a = np.array([[2,0],\n",
        "              [4,9]])\n",
        "b = np.array([[2,0],\n",
        "              [4,9]])\n",
        "print(np.add(a,b))\n",
        "print(\"Another way to perform element-wise operation\\n\",a+b)\n",
        "print(\"1 added to Matrix 'a' element-wise\\n \",a+1)"
      ],
      "execution_count": 33,
      "outputs": [
        {
          "output_type": "stream",
          "name": "stdout",
          "text": [
            "[[ 4  0]\n",
            " [ 8 18]]\n",
            "Another way to perform element-wise operation\n",
            " [[ 4  0]\n",
            " [ 8 18]]\n",
            "1 added to Matrix 'a' element-wise\n",
            "  [[ 3  1]\n",
            " [ 5 10]]\n"
          ]
        }
      ]
    },
    {
      "cell_type": "code",
      "metadata": {
        "id": "YFc2yY4Q7dZT",
        "colab": {
          "base_uri": "https://localhost:8080/"
        },
        "outputId": "a4b05035-2d7e-4ec0-f31d-efff03ec2cde"
      },
      "source": [
        "#subtract() - Used to subtract arguments element-wise\n",
        "\n",
        "a = np.array([[10,20,30]])\n",
        "b = np.array([[10,10,10]])\n",
        "np.subtract(a,b)\n"
      ],
      "execution_count": 34,
      "outputs": [
        {
          "output_type": "execute_result",
          "data": {
            "text/plain": [
              "array([[ 0, 10, 20]])"
            ]
          },
          "metadata": {},
          "execution_count": 34
        }
      ]
    },
    {
      "cell_type": "code",
      "metadata": {
        "id": "cBuF23fJ7dMY",
        "colab": {
          "base_uri": "https://localhost:8080/"
        },
        "outputId": "9a136ee9-9998-4782-9b27-8bbde5f6fc51"
      },
      "source": [
        "#multiply() - Used to add multiply arguments element-wise\n",
        "\n",
        "a = np.array([[0,5,7],\n",
        "              [4,9,1],\n",
        "              [3,1,7]])\n",
        "b = np.array([[10,10,10]])\n",
        "np.multiply(a,b)"
      ],
      "execution_count": 35,
      "outputs": [
        {
          "output_type": "execute_result",
          "data": {
            "text/plain": [
              "array([[ 0, 50, 70],\n",
              "       [40, 90, 10],\n",
              "       [30, 10, 70]])"
            ]
          },
          "metadata": {},
          "execution_count": 35
        }
      ]
    },
    {
      "cell_type": "code",
      "metadata": {
        "id": "Ehb6p3on8Q3b",
        "colab": {
          "base_uri": "https://localhost:8080/"
        },
        "outputId": "287f2143-70f7-4d29-b6b4-3293defe0885"
      },
      "source": [
        "#divide() - Used to divide arguments element-wise\n",
        "\n",
        "a = np.array([[20,24,32],\n",
        "              [4,8,18],\n",
        "              [2,54,78]])\n",
        "b = np.array([[2]])\n",
        "np.divide(a,b)"
      ],
      "execution_count": 36,
      "outputs": [
        {
          "output_type": "execute_result",
          "data": {
            "text/plain": [
              "array([[10.000, 12.000, 16.000],\n",
              "       [2.000, 4.000, 9.000],\n",
              "       [1.000, 27.000, 39.000]])"
            ]
          },
          "metadata": {},
          "execution_count": 36
        }
      ]
    },
    {
      "cell_type": "code",
      "metadata": {
        "id": "iCbzgkHH8Q7O",
        "colab": {
          "base_uri": "https://localhost:8080/"
        },
        "outputId": "a55f6c81-d993-458d-fbcc-9d594e82d8e7"
      },
      "source": [
        "#around() - Used to round off the array elements\n",
        "\n",
        "arr = [7.52, 21.58, 42.81, 43.72, 14.23, 32.64, 51.91, 2.50, 1.99]\n",
        "print(\"Input array : \\n\",arr)\n",
        "\n",
        "print (\"\\nRounded values : \\n\",np.around(arr))\n",
        "print (\"\\nRounded values after decimal 1 : \\n\",np.around(arr,1))\n",
        "print (\"\\nRounded values before decimal 1: \\n\",np.around(arr,-1))"
      ],
      "execution_count": 37,
      "outputs": [
        {
          "output_type": "stream",
          "name": "stdout",
          "text": [
            "Input array : \n",
            " [7.52, 21.58, 42.81, 43.72, 14.23, 32.64, 51.91, 2.5, 1.99]\n",
            "\n",
            "Rounded values : \n",
            " [8.000 22.000 43.000 44.000 14.000 33.000 52.000 2.000 2.000]\n",
            "\n",
            "Rounded values after decimal 1 : \n",
            " [7.500 21.600 42.800 43.700 14.200 32.600 51.900 2.500 2.000]\n",
            "\n",
            "Rounded values before decimal 1: \n",
            " [10.000 20.000 40.000 40.000 10.000 30.000 50.000 0.000 0.000]\n"
          ]
        }
      ]
    },
    {
      "cell_type": "code",
      "metadata": {
        "id": "nMCdn2eh8QzZ",
        "colab": {
          "base_uri": "https://localhost:8080/"
        },
        "outputId": "73d395e1-bb8c-430d-c1c3-f9e73829e44f"
      },
      "source": [
        "#floor() - Returns the greatest of integers present in the array but not not more than the input parameter\n",
        "\n",
        "arr = [7.5, 21.5, 42.8, 43.7, 14.2, 32.6, 51.9, 2.5, 1.9]\n",
        "print(\"Input array : \\n\",arr)\n",
        "\n",
        "print(\"Floored Values:\\n\",np.floor(arr))"
      ],
      "execution_count": 38,
      "outputs": [
        {
          "output_type": "stream",
          "name": "stdout",
          "text": [
            "Input array : \n",
            " [7.5, 21.5, 42.8, 43.7, 14.2, 32.6, 51.9, 2.5, 1.9]\n",
            "Floored Values:\n",
            " [7.000 21.000 42.000 43.000 14.000 32.000 51.000 2.000 1.000]\n"
          ]
        }
      ]
    },
    {
      "cell_type": "code",
      "metadata": {
        "id": "CKWsVcwG9iYX",
        "colab": {
          "base_uri": "https://localhost:8080/"
        },
        "outputId": "9d406f95-55ae-46b9-c92a-086f34c0dcf3"
      },
      "source": [
        "#ceil() -Returns the ceiling of an input value\n",
        "\n",
        "arr = [7.5, 21.5, 42.8, 43.7, 14.2, 32.6, 51.9, 2.5, 1.9]\n",
        "print(\"Input array : \\n\",arr)\n",
        "\n",
        "print(\"Ceiling Values:\\n\",np.ceil(arr))"
      ],
      "execution_count": 39,
      "outputs": [
        {
          "output_type": "stream",
          "name": "stdout",
          "text": [
            "Input array : \n",
            " [7.5, 21.5, 42.8, 43.7, 14.2, 32.6, 51.9, 2.5, 1.9]\n",
            "Ceiling Values:\n",
            " [8.000 22.000 43.000 44.000 15.000 33.000 52.000 3.000 2.000]\n"
          ]
        }
      ]
    },
    {
      "cell_type": "markdown",
      "metadata": {
        "id": "t9k7I6TY91YM"
      },
      "source": [
        "###Task 5: Also convert the final movie ratings to have range from 0 to 10, such that the minimum rating converts to 0 and maximum to 10 , and the other values in between"
      ]
    },
    {
      "cell_type": "code",
      "metadata": {
        "id": "r1cnHOfsvLoG"
      },
      "source": [
        "#Converting the average of movie ratings to have the range 0 to 10\n",
        "x = final_movie_rating[:,1]\n",
        "old_range = x.max()-x.min()\n",
        "new_range = (10 - 0)\n",
        "final_movie_rating[:,1] = ((x - x.min())*(new_range/old_range) + 0)"
      ],
      "execution_count": 40,
      "outputs": []
    },
    {
      "cell_type": "code",
      "metadata": {
        "id": "2MiI0q7rMrjO",
        "colab": {
          "base_uri": "https://localhost:8080/"
        },
        "outputId": "907774fd-8056-452e-95c7-365cc4d6fb21"
      },
      "source": [
        "final_movie_rating"
      ],
      "execution_count": 41,
      "outputs": [
        {
          "output_type": "execute_result",
          "data": {
            "text/plain": [
              "array([[1301.000, 4.804, 62.000, 2.924],\n",
              "       [1302.000, 6.620, 59.000, 3.033],\n",
              "       [1303.000, 4.357, 62.000, 3.189],\n",
              "       ...,\n",
              "       [2348.000, 7.665, 58.000, 2.911],\n",
              "       [2349.000, 4.081, 54.000, 3.067],\n",
              "       [2350.000, 6.176, 55.000, 2.944]])"
            ]
          },
          "metadata": {},
          "execution_count": 41
        }
      ]
    },
    {
      "cell_type": "code",
      "metadata": {
        "id": "aMNf2jhTNW3-",
        "colab": {
          "base_uri": "https://localhost:8080/"
        },
        "outputId": "371fcb26-51d1-49d9-c9b4-ab36a91e634a"
      },
      "source": [
        "final_movie_rating.shape"
      ],
      "execution_count": 42,
      "outputs": [
        {
          "output_type": "execute_result",
          "data": {
            "text/plain": [
              "(1050, 4)"
            ]
          },
          "metadata": {},
          "execution_count": 42
        }
      ]
    },
    {
      "cell_type": "markdown",
      "metadata": {
        "id": "6kkolXwTtjTQ"
      },
      "source": []
    },
    {
      "cell_type": "code",
      "metadata": {
        "id": "IbsEppcTg2V7"
      },
      "source": [
        "sorted_films = final_movie_rating[final_movie_rating[:,1].argsort()[::-1]]"
      ],
      "execution_count": 43,
      "outputs": []
    },
    {
      "cell_type": "code",
      "metadata": {
        "id": "8_wiVBTRrt_M",
        "colab": {
          "base_uri": "https://localhost:8080/"
        },
        "outputId": "b67c5d2e-244d-4a88-b936-8c1c04145a3a"
      },
      "source": [
        "print(sorted_films)"
      ],
      "execution_count": 44,
      "outputs": [
        {
          "output_type": "stream",
          "name": "stdout",
          "text": [
            "[[2111.000 10.000 45.000 3.250]\n",
            " [1542.000 9.130 51.000 2.546]\n",
            " [2050.000 8.894 61.000 3.007]\n",
            " ...\n",
            " [1985.000 0.890 62.000 2.919]\n",
            " [1966.000 0.294 51.000 2.948]\n",
            " [1699.000 0.000 55.000 2.865]]\n"
          ]
        }
      ]
    },
    {
      "cell_type": "markdown",
      "metadata": {
        "id": "xM74N_hB5Brl"
      },
      "source": [
        "savetxt() method is used to write files from a numpy array"
      ]
    },
    {
      "cell_type": "code",
      "metadata": {
        "id": "sliEHZ5grIl5"
      },
      "source": [
        "np.savetxt('ranked_movie_data.csv',sorted_films, delimiter=',')"
      ],
      "execution_count": 45,
      "outputs": []
    },
    {
      "cell_type": "markdown",
      "metadata": {
        "id": "zdnNdloz43LD"
      },
      "source": [
        "genfromtxt() method is used to read files in a numpy array"
      ]
    },
    {
      "cell_type": "code",
      "metadata": {
        "id": "VTmzIqvB08fJ"
      },
      "source": [
        "data = np.genfromtxt('/content/ranked_movie_data.csv',delimiter = ',')"
      ],
      "execution_count": 46,
      "outputs": []
    },
    {
      "cell_type": "code",
      "metadata": {
        "id": "cEJIdXLT1ER7",
        "colab": {
          "base_uri": "https://localhost:8080/"
        },
        "outputId": "16a1a75c-4f6b-4c04-fe79-b8e86730de1c"
      },
      "source": [
        "data"
      ],
      "execution_count": 47,
      "outputs": [
        {
          "output_type": "execute_result",
          "data": {
            "text/plain": [
              "array([[2111.000, 10.000, 45.000, 3.250],\n",
              "       [1542.000, 9.130, 51.000, 2.546],\n",
              "       [2050.000, 8.894, 61.000, 3.007],\n",
              "       ...,\n",
              "       [1985.000, 0.890, 62.000, 2.919],\n",
              "       [1966.000, 0.294, 51.000, 2.948],\n",
              "       [1699.000, 0.000, 55.000, 2.865]])"
            ]
          },
          "metadata": {},
          "execution_count": 47
        }
      ]
    },
    {
      "cell_type": "code",
      "metadata": {
        "id": "OXF0f_J_1FCz"
      },
      "source": [],
      "execution_count": 47,
      "outputs": []
    }
  ]
}