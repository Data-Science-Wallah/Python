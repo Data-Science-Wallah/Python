{
  "nbformat": 4,
  "nbformat_minor": 0,
  "metadata": {
    "colab": {
      "provenance": []
    },
    "kernelspec": {
      "name": "python3",
      "display_name": "Python 3"
    },
    "language_info": {
      "name": "python"
    }
  },
  "cells": [
    {
      "cell_type": "markdown",
      "source": [
        "List comprehension is a concise and powerful feature in Python that allows you to create new lists based on existing lists or other iterables. It provides a compact way to perform operations on each element of an iterable and generate a new list in a single line of code.\n",
        "\n",
        "The basic syntax of list comprehension is:\n",
        "\n",
        "```python\n",
        "new_list = [expression for item in iterable]\n",
        "```\n",
        "\n",
        "Let's break it down:\n",
        "\n",
        "- `new_list`: This is the name of the new list that will be created.\n",
        "\n",
        "- `expression`: It represents the expression or operation that will be applied to each item in the iterable to generate a new element in the new list.\n",
        "\n",
        "- `item`: It represents an individual element in the iterable.\n",
        "\n",
        "- `iterable`: It can be a list, tuple, string, or any other iterable object.\n",
        "\n",
        "List comprehension can also include conditional statements to filter elements based on certain conditions. The general syntax with a conditional statement is:\n",
        "\n",
        "```python\n",
        "new_list = [expression for item in iterable if condition]\n",
        "```\n",
        "\n",
        "In this case, the condition is evaluated for each item, and only the items that satisfy the condition are included in the new list.\n",
        "\n",
        "List comprehension is a concise and elegant way to write code, especially when you want to perform simple operations on an iterable and create a new list. It promotes readability and avoids the need for explicit loops and temporary lists in many cases, making your code more efficient and compact."
      ],
      "metadata": {
        "id": "iYGTlr_SvGdA"
      }
    },
    {
      "cell_type": "code",
      "source": [
        "numbers = [1, 2, 3, 4, 5, 6, 7, 8, 9, 10]\n",
        "squares=[]\n",
        "for x in numbers:\n",
        "  squares.append(x**2)\n",
        "print(squares)\n"
      ],
      "metadata": {
        "colab": {
          "base_uri": "https://localhost:8080/"
        },
        "id": "DJEaVH1xuxdg",
        "outputId": "45277725-900b-4bad-9191-8909ee310d43"
      },
      "execution_count": null,
      "outputs": [
        {
          "output_type": "stream",
          "name": "stdout",
          "text": [
            "[1, 4, 9, 16, 25, 36, 49, 64, 81, 100]\n"
          ]
        }
      ]
    },
    {
      "cell_type": "markdown",
      "source": [
        "**Python's list comprehension**"
      ],
      "metadata": {
        "id": "2O_OBErrlFME"
      }
    },
    {
      "cell_type": "markdown",
      "source": [
        "new_list = [**expression** for **item** in **iterable** if **condition**]"
      ],
      "metadata": {
        "id": "V_uGswPzl9Sm"
      }
    },
    {
      "cell_type": "code",
      "execution_count": null,
      "metadata": {
        "colab": {
          "base_uri": "https://localhost:8080/"
        },
        "id": "y6MIALxWlA5Z",
        "outputId": "64bf2201-d72b-4e52-bdf6-22c263cc4b20"
      },
      "outputs": [
        {
          "output_type": "stream",
          "name": "stdout",
          "text": [
            "[1, 4, 9, 16, 25, 36, 49, 64, 81, 100]\n"
          ]
        }
      ],
      "source": [
        "numbers = [1, 2, 3, 4, 5, 6, 7, 8, 9, 10]\n",
        "squares = [x**2 for x in numbers]\n",
        "print(squares)"
      ]
    },
    {
      "cell_type": "code",
      "source": [
        "numbers = [1, 2, 3, 4, 5, 6, 7, 8, 9, 10]\n",
        "squares = [x**2 for x in numbers if x%2==0]\n",
        "print(squares)"
      ],
      "metadata": {
        "colab": {
          "base_uri": "https://localhost:8080/"
        },
        "id": "o0aMSuXorZtU",
        "outputId": "64afbc70-816f-4064-b09e-e0779e07c0d8"
      },
      "execution_count": null,
      "outputs": [
        {
          "output_type": "stream",
          "name": "stdout",
          "text": [
            "[4, 16, 36, 64, 100]\n"
          ]
        }
      ]
    },
    {
      "cell_type": "markdown",
      "source": [
        "**list comprehensions both if-else**"
      ],
      "metadata": {
        "id": "TxL2bv_UmbZz"
      }
    },
    {
      "cell_type": "markdown",
      "source": [
        "new_list = [**expression** if **condition** else **alternative_expression** for **item** in **iterable**]\n"
      ],
      "metadata": {
        "id": "GcaPSpYVmjHD"
      }
    },
    {
      "cell_type": "code",
      "source": [
        "numbers = [1, 2, 3, 4, 5, 6, 7, 8, 9, 10]\n",
        "modified_numbers = [x**2 if x % 2 == 0 else x**3 for x in numbers]\n",
        "print(modified_numbers)"
      ],
      "metadata": {
        "colab": {
          "base_uri": "https://localhost:8080/"
        },
        "id": "PeBfWHj9mnr4",
        "outputId": "8f33cbc6-967a-4fcf-eaac-b5e426c9eac5"
      },
      "execution_count": null,
      "outputs": [
        {
          "output_type": "stream",
          "name": "stdout",
          "text": [
            "[1, 4, 27, 16, 125, 36, 343, 64, 729, 100]\n"
          ]
        }
      ]
    },
    {
      "cell_type": "markdown",
      "source": [
        "**Nested loops within a list comprehension**"
      ],
      "metadata": {
        "id": "ZhPglXLFm6DE"
      }
    },
    {
      "cell_type": "markdown",
      "source": [
        "new_list = [**expression** for **outer_item** in **outer_iterable** for **inner_item** in **inner_iterable**]\n"
      ],
      "metadata": {
        "id": "x4CM8S7_m678"
      }
    },
    {
      "cell_type": "code",
      "source": [
        "numbers1 = [1, 2, 3]\n",
        "numbers2 = [4, 5, 6]\n",
        "product_list = [x * y for x in numbers1 for y in numbers2]\n",
        "print(product_list)"
      ],
      "metadata": {
        "colab": {
          "base_uri": "https://localhost:8080/"
        },
        "id": "oOKY9jTQm_Bk",
        "outputId": "3eee3d15-b934-4e6b-eab4-24e0a31e6d27"
      },
      "execution_count": null,
      "outputs": [
        {
          "output_type": "stream",
          "name": "stdout",
          "text": [
            "[4, 5, 6, 8, 10, 12, 12, 15, 18]\n"
          ]
        }
      ]
    },
    {
      "cell_type": "markdown",
      "source": [
        "**list comprehension for List in list.**"
      ],
      "metadata": {
        "id": "JCPaZFK8nOJc"
      }
    },
    {
      "cell_type": "markdown",
      "source": [
        "new_list = [**expression** for **sublist** in **list_of_lists** for **element** in **sublist**]\n"
      ],
      "metadata": {
        "id": "fGPRUudwnOi8"
      }
    },
    {
      "cell_type": "code",
      "source": [
        "list_of_lists = [[1, 2, 3], [4, 5, 6], [7, 8, 9]]\n",
        "new_list = [element for sublist in list_of_lists for element in sublist]\n",
        "print(new_list)\n"
      ],
      "metadata": {
        "colab": {
          "base_uri": "https://localhost:8080/"
        },
        "id": "gAYLxCG7mtmz",
        "outputId": "e502c13b-d12a-456b-8266-0b49c1aae4d0"
      },
      "execution_count": null,
      "outputs": [
        {
          "output_type": "stream",
          "name": "stdout",
          "text": [
            "[1, 2, 3, 4, 5, 6, 7, 8, 9]\n"
          ]
        }
      ]
    }
  ]
}